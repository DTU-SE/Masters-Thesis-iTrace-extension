{
 "cells": [
  {
   "cell_type": "code",
   "execution_count": 698,
   "metadata": {
    "collapsed": false
   },
   "outputs": [],
   "source": [
    "import MySQLdb\n",
    "import pandas\n",
    "import matplotlib.pyplot as plt\n",
    "%matplotlib inline  \n"
   ]
  },
  {
   "cell_type": "code",
   "execution_count": 798,
   "metadata": {
    "collapsed": false
   },
   "outputs": [],
   "source": [
    "class ITraceAnalyser:\n",
    "    #df has a gaze for each sce.\n",
    "    def __init__(self,host,user,passwd,db, session_id):\n",
    "        db = MySQLdb.connect(host=host,\n",
    "                         user=user,\n",
    "                         passwd=passwd,\n",
    "                         db=db)\n",
    "        cursor = db.cursor()\n",
    "        session_info = cursor.execute(\"SELECT * FROM session_info WHERE session_id='\"+session_id+\"'\")\n",
    "        self.df = pandas.read_sql(\"SELECT * FROM (SELECT * FROM gazes JOIN sces ON gazes.gaze_id=sces.sce_gaze_id) a WHERE a.gaze_session_id='\" + session_id + \"';\", db)\n",
    "        #df has all sces. dfu only has sce of depth 0.\n",
    "        #self.dfu = df.drop_duplicates(subset=\"gaze_id\")\n",
    "        #no style, is those views which are not associated with a sce. such as project explorer views.\n",
    "        self.dfNoStyle = pandas.read_sql(\"SELECT * FROM gazes WHERE path IS NULL\", db)\n",
    "\n",
    "    def split_by_time(self,df, startTime=0, endTime=0):\n",
    "        #print df\n",
    "        start = df[\"session_time\"].min()/10e9\n",
    "        if startTime != 0:\n",
    "            dfTime = df.loc[(df[\"session_time\"]) / 1e9 >= start + startTime]\n",
    "            if endTime != 0:\n",
    "                dfTime = dfTime.loc[(dfTime[\"session_time\"]) / 1e9 <= start + endTime]\n",
    "        else :\n",
    "            if endTime != 0:\n",
    "                dfTime = df.loc[(df[\"session_time\"]) / 1e9 <= start + endTime]\n",
    "        return dfTime\n",
    "    \n",
    "    #Show how many times each unique source code entity has been looked at.\n",
    "    def sce_distribution(self,startTime=0, endTime=0,depth=0):\n",
    "\n",
    "        dfTime = self.split_by_time(self.df, startTime, endTime)\n",
    "        dfTime = dfTime.loc[dfTime[\"depth\"] <= depth][\"sce_name\"]\n",
    "        y = dfTime.value_counts()\n",
    "        x_ticks = dfTime.to_frame().drop_duplicates(subset=\"sce_name\")[\"sce_name\"]\n",
    "        x = range(len(x_ticks))\n",
    "\n",
    "        plt.xticks(x, x_ticks, rotation=80)\n",
    "        #print yval\n",
    "        #print dfTime\n",
    "\n",
    "        return [x,y] \n",
    "\n",
    "    def plot_bar(self,x_ticks,y):\n",
    "        x = range(len(x_ticks))\n",
    "        plt.bar(x, list(y), color=\"blue\")\n",
    "        plt.show()\n",
    "\n",
    "    #Get bar plot for time interval in seconds. \n",
    "    #Ex. sce_distribution_by_time(10,30) is 10 seconds after first gaze, to 30 seconds after first gaze\n",
    "    def sce_distribution_by_time(self,startTime=0,endTime=0,depth=0):\n",
    "        print \"Not yet implemented\""
   ]
  },
  {
   "cell_type": "code",
   "execution_count": 799,
   "metadata": {
    "collapsed": true
   },
   "outputs": [],
   "source": [
    "#iTrace = ITraceAnalyser(\"localhost\",\"root\",\"1234\",\"iTrace\",'20171020T123558-0047+0200')\n",
    "#iTrace2 = ITraceAnalyser(\"localhost\",\"root\",\"1234\",\"iTrace\",'20171023T143107-0434+0200')\n",
    "#iTrace3 = ITraceAnalyser(\"localhost\",\"root\",\"1234\",\"iTrace\",'20171023T150625-0853+0200')\n",
    "iTrace4 = ITraceAnalyser(\"localhost\",\"root\",\"1234\",\"iTrace\",'20171023T153101-0468+0200')\n"
   ]
  },
  {
   "cell_type": "code",
   "execution_count": 802,
   "metadata": {
    "collapsed": false
   },
   "outputs": [
    {
     "ename": "AttributeError",
     "evalue": "ITraceAnalyser instance has no attribute 'plot_bar'",
     "output_type": "error",
     "traceback": [
      "\u001b[0;31m---------------------------------------------------------------------------\u001b[0m",
      "\u001b[0;31mAttributeError\u001b[0m                            Traceback (most recent call last)",
      "\u001b[0;32m<ipython-input-802-fb8f9a53004a>\u001b[0m in \u001b[0;36m<module>\u001b[0;34m()\u001b[0m\n\u001b[1;32m      1\u001b[0m \u001b[1;31m#\u001b[0m\u001b[1;33m\u001b[0m\u001b[1;33m\u001b[0m\u001b[0m\n\u001b[0;32m----> 2\u001b[0;31m \u001b[0miTrace\u001b[0m\u001b[1;33m.\u001b[0m\u001b[0mplot_bar\u001b[0m\u001b[1;33m(\u001b[0m\u001b[0miTrace4\u001b[0m\u001b[1;33m.\u001b[0m\u001b[0msce_distribution\u001b[0m\u001b[1;33m(\u001b[0m\u001b[1;36m0\u001b[0m\u001b[1;33m,\u001b[0m\u001b[1;36m10\u001b[0m\u001b[1;33m)\u001b[0m\u001b[1;33m)\u001b[0m\u001b[1;33m\u001b[0m\u001b[0m\n\u001b[0m\u001b[1;32m      3\u001b[0m \u001b[0miTrace4\u001b[0m\u001b[1;33m.\u001b[0m\u001b[0msce_distribution\u001b[0m\u001b[1;33m(\u001b[0m\u001b[1;36m10\u001b[0m\u001b[1;33m,\u001b[0m\u001b[1;36m20\u001b[0m\u001b[1;33m)\u001b[0m\u001b[1;33m\u001b[0m\u001b[0m\n\u001b[1;32m      4\u001b[0m \u001b[0miTrace4\u001b[0m\u001b[1;33m.\u001b[0m\u001b[0msce_distribution\u001b[0m\u001b[1;33m(\u001b[0m\u001b[1;36m20\u001b[0m\u001b[1;33m,\u001b[0m\u001b[1;36m30\u001b[0m\u001b[1;33m)\u001b[0m\u001b[1;33m\u001b[0m\u001b[0m\n\u001b[1;32m      5\u001b[0m \u001b[0miTrace4\u001b[0m\u001b[1;33m.\u001b[0m\u001b[0msce_distribution\u001b[0m\u001b[1;33m(\u001b[0m\u001b[1;36m30\u001b[0m\u001b[1;33m,\u001b[0m\u001b[1;36m40\u001b[0m\u001b[1;33m)\u001b[0m\u001b[1;33m\u001b[0m\u001b[0m\n",
      "\u001b[0;31mAttributeError\u001b[0m: ITraceAnalyser instance has no attribute 'plot_bar'"
     ]
    }
   ],
   "source": [
    "#\n",
    "iTrace.plot_bar(iTrace4.sce_distribution(0,10))\n",
    "iTrace4.sce_distribution(10,20)\n",
    "iTrace4.sce_distribution(20,30)\n",
    "iTrace4.sce_distribution(30,40)\n",
    "iTrace4.sce_distribution(40,50)\n",
    "iTrace4.sce_distribution(50,60)\n",
    "\n"
   ]
  },
  {
   "cell_type": "code",
   "execution_count": null,
   "metadata": {
    "collapsed": false
   },
   "outputs": [],
   "source": []
  },
  {
   "cell_type": "raw",
   "metadata": {
    "collapsed": false
   },
   "source": []
  },
  {
   "cell_type": "code",
   "execution_count": null,
   "metadata": {
    "collapsed": false
   },
   "outputs": [],
   "source": [
    "df1 = df.drop_duplicates(subset=\"gaze_id\")\n",
    "x = list(df1[\"x\"])\n",
    "y = list(df1[\"y\"])\n",
    "\n",
    "plt.scatter(x,y)"
   ]
  },
  {
   "cell_type": "raw",
   "metadata": {
    "collapsed": true
   },
   "source": []
  },
  {
   "cell_type": "code",
   "execution_count": null,
   "metadata": {
    "collapsed": false
   },
   "outputs": [],
   "source": [
    "271768846419483/10E9"
   ]
  },
  {
   "cell_type": "code",
   "execution_count": null,
   "metadata": {
    "collapsed": false
   },
   "outputs": [],
   "source": [
    "27176/60"
   ]
  },
  {
   "cell_type": "code",
   "execution_count": null,
   "metadata": {
    "collapsed": true
   },
   "outputs": [],
   "source": []
  }
 ],
 "metadata": {
  "anaconda-cloud": {},
  "kernelspec": {
   "display_name": "Python [default]",
   "language": "python",
   "name": "python2"
  },
  "language_info": {
   "codemirror_mode": {
    "name": "ipython",
    "version": 2
   },
   "file_extension": ".py",
   "mimetype": "text/x-python",
   "name": "python",
   "nbconvert_exporter": "python",
   "pygments_lexer": "ipython2",
   "version": "2.7.12"
  }
 },
 "nbformat": 4,
 "nbformat_minor": 1
}
